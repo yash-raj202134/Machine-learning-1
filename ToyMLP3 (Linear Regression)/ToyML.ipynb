{
 "cells": [
  {
   "cell_type": "code",
   "execution_count": 118,
   "id": "78982022",
   "metadata": {},
   "outputs": [],
   "source": [
    "import pandas as pd\n",
    "import numpy as np\n",
    "import matplotlib.pyplot as plt"
   ]
  },
  {
   "cell_type": "code",
   "execution_count": 119,
   "id": "81f31d6a",
   "metadata": {},
   "outputs": [],
   "source": [
    "movies = pd.read_csv('moviesData.csv')"
   ]
  },
  {
   "cell_type": "code",
   "execution_count": 120,
   "id": "2a0fc176",
   "metadata": {},
   "outputs": [
    {
     "name": "stdout",
     "output_type": "stream",
     "text": [
      "<class 'pandas.core.frame.DataFrame'>\n",
      "RangeIndex: 600 entries, 0 to 599\n",
      "Data columns (total 31 columns):\n",
      " #   Column            Non-Null Count  Dtype  \n",
      "---  ------            --------------  -----  \n",
      " 0   Unnamed: 0        600 non-null    int64  \n",
      " 1   title             600 non-null    object \n",
      " 2   title_type        600 non-null    object \n",
      " 3   genre             600 non-null    object \n",
      " 4   runtime           599 non-null    float64\n",
      " 5   mpaa_rating       600 non-null    object \n",
      " 6   studio            595 non-null    object \n",
      " 7   thtr_rel_year     600 non-null    int64  \n",
      " 8   thtr_rel_month    600 non-null    int64  \n",
      " 9   thtr_rel_day      600 non-null    int64  \n",
      " 10  dvd_rel_year      593 non-null    float64\n",
      " 11  dvd_rel_month     593 non-null    float64\n",
      " 12  dvd_rel_day       593 non-null    float64\n",
      " 13  imdb_rating       600 non-null    float64\n",
      " 14  imdb_num_votes    600 non-null    int64  \n",
      " 15  critics_rating    600 non-null    object \n",
      " 16  critics_score     600 non-null    int64  \n",
      " 17  audience_rating   600 non-null    object \n",
      " 18  audience_score    600 non-null    int64  \n",
      " 19  best_pic_nom      600 non-null    object \n",
      " 20  best_pic_win      600 non-null    object \n",
      " 21  best_actor_win    600 non-null    object \n",
      " 22  best_actress_win  600 non-null    object \n",
      " 23  best_dir_win      600 non-null    object \n",
      " 24  top200_box        600 non-null    object \n",
      " 25  director          598 non-null    object \n",
      " 26  actor1            598 non-null    object \n",
      " 27  actor2            593 non-null    object \n",
      " 28  actor3            591 non-null    object \n",
      " 29  actor4            588 non-null    object \n",
      " 30  actor5            586 non-null    object \n",
      "dtypes: float64(5), int64(7), object(19)\n",
      "memory usage: 145.4+ KB\n"
     ]
    }
   ],
   "source": [
    "movies.info()"
   ]
  },
  {
   "cell_type": "code",
   "execution_count": 121,
   "id": "ea91202f",
   "metadata": {},
   "outputs": [
    {
     "data": {
      "text/plain": [
       "(600, 31)"
      ]
     },
     "execution_count": 121,
     "metadata": {},
     "output_type": "execute_result"
    }
   ],
   "source": [
    "movies.shape"
   ]
  },
  {
   "cell_type": "code",
   "execution_count": 122,
   "id": "9dcd13a4",
   "metadata": {},
   "outputs": [
    {
     "data": {
      "text/html": [
       "<div>\n",
       "<style scoped>\n",
       "    .dataframe tbody tr th:only-of-type {\n",
       "        vertical-align: middle;\n",
       "    }\n",
       "\n",
       "    .dataframe tbody tr th {\n",
       "        vertical-align: top;\n",
       "    }\n",
       "\n",
       "    .dataframe thead th {\n",
       "        text-align: right;\n",
       "    }\n",
       "</style>\n",
       "<table border=\"1\" class=\"dataframe\">\n",
       "  <thead>\n",
       "    <tr style=\"text-align: right;\">\n",
       "      <th></th>\n",
       "      <th>Unnamed: 0</th>\n",
       "      <th>title</th>\n",
       "      <th>title_type</th>\n",
       "      <th>genre</th>\n",
       "      <th>runtime</th>\n",
       "      <th>mpaa_rating</th>\n",
       "      <th>studio</th>\n",
       "      <th>thtr_rel_year</th>\n",
       "      <th>thtr_rel_month</th>\n",
       "      <th>thtr_rel_day</th>\n",
       "      <th>...</th>\n",
       "      <th>best_actor_win</th>\n",
       "      <th>best_actress_win</th>\n",
       "      <th>best_dir_win</th>\n",
       "      <th>top200_box</th>\n",
       "      <th>director</th>\n",
       "      <th>actor1</th>\n",
       "      <th>actor2</th>\n",
       "      <th>actor3</th>\n",
       "      <th>actor4</th>\n",
       "      <th>actor5</th>\n",
       "    </tr>\n",
       "  </thead>\n",
       "  <tbody>\n",
       "    <tr>\n",
       "      <th>0</th>\n",
       "      <td>1</td>\n",
       "      <td>Filly Brown</td>\n",
       "      <td>Feature Film</td>\n",
       "      <td>Drama</td>\n",
       "      <td>80.0</td>\n",
       "      <td>R</td>\n",
       "      <td>Indomina Media Inc.</td>\n",
       "      <td>2013</td>\n",
       "      <td>4</td>\n",
       "      <td>19</td>\n",
       "      <td>...</td>\n",
       "      <td>no</td>\n",
       "      <td>no</td>\n",
       "      <td>no</td>\n",
       "      <td>no</td>\n",
       "      <td>Michael D. Olmos</td>\n",
       "      <td>Gina Rodriguez</td>\n",
       "      <td>Jenni Rivera</td>\n",
       "      <td>Lou Diamond Phillips</td>\n",
       "      <td>Emilio Rivera</td>\n",
       "      <td>Joseph Julian Soria</td>\n",
       "    </tr>\n",
       "    <tr>\n",
       "      <th>1</th>\n",
       "      <td>2</td>\n",
       "      <td>The Dish</td>\n",
       "      <td>Feature Film</td>\n",
       "      <td>Drama</td>\n",
       "      <td>101.0</td>\n",
       "      <td>PG-13</td>\n",
       "      <td>Warner Bros. Pictures</td>\n",
       "      <td>2001</td>\n",
       "      <td>3</td>\n",
       "      <td>14</td>\n",
       "      <td>...</td>\n",
       "      <td>no</td>\n",
       "      <td>no</td>\n",
       "      <td>no</td>\n",
       "      <td>no</td>\n",
       "      <td>Rob Sitch</td>\n",
       "      <td>Sam Neill</td>\n",
       "      <td>Kevin Harrington</td>\n",
       "      <td>Patrick Warburton</td>\n",
       "      <td>Tom Long</td>\n",
       "      <td>Genevieve Mooy</td>\n",
       "    </tr>\n",
       "    <tr>\n",
       "      <th>2</th>\n",
       "      <td>3</td>\n",
       "      <td>Waiting for Guffman</td>\n",
       "      <td>Feature Film</td>\n",
       "      <td>Comedy</td>\n",
       "      <td>84.0</td>\n",
       "      <td>R</td>\n",
       "      <td>Sony Pictures Classics</td>\n",
       "      <td>1996</td>\n",
       "      <td>8</td>\n",
       "      <td>21</td>\n",
       "      <td>...</td>\n",
       "      <td>no</td>\n",
       "      <td>no</td>\n",
       "      <td>no</td>\n",
       "      <td>no</td>\n",
       "      <td>Christopher Guest</td>\n",
       "      <td>Christopher Guest</td>\n",
       "      <td>Catherine O'Hara</td>\n",
       "      <td>Parker Posey</td>\n",
       "      <td>Eugene Levy</td>\n",
       "      <td>Bob Balaban</td>\n",
       "    </tr>\n",
       "    <tr>\n",
       "      <th>3</th>\n",
       "      <td>4</td>\n",
       "      <td>The Age of Innocence</td>\n",
       "      <td>Feature Film</td>\n",
       "      <td>Drama</td>\n",
       "      <td>139.0</td>\n",
       "      <td>PG</td>\n",
       "      <td>Columbia Pictures</td>\n",
       "      <td>1993</td>\n",
       "      <td>10</td>\n",
       "      <td>1</td>\n",
       "      <td>...</td>\n",
       "      <td>yes</td>\n",
       "      <td>no</td>\n",
       "      <td>yes</td>\n",
       "      <td>no</td>\n",
       "      <td>Martin Scorsese</td>\n",
       "      <td>Daniel Day-Lewis</td>\n",
       "      <td>Michelle Pfeiffer</td>\n",
       "      <td>Winona Ryder</td>\n",
       "      <td>Richard E. Grant</td>\n",
       "      <td>Alec McCowen</td>\n",
       "    </tr>\n",
       "    <tr>\n",
       "      <th>4</th>\n",
       "      <td>5</td>\n",
       "      <td>Malevolence</td>\n",
       "      <td>Feature Film</td>\n",
       "      <td>Horror</td>\n",
       "      <td>90.0</td>\n",
       "      <td>R</td>\n",
       "      <td>Anchor Bay Entertainment</td>\n",
       "      <td>2004</td>\n",
       "      <td>9</td>\n",
       "      <td>10</td>\n",
       "      <td>...</td>\n",
       "      <td>no</td>\n",
       "      <td>no</td>\n",
       "      <td>no</td>\n",
       "      <td>no</td>\n",
       "      <td>Stevan Mena</td>\n",
       "      <td>Samantha Dark</td>\n",
       "      <td>R. Brandon Johnson</td>\n",
       "      <td>Brandon Johnson</td>\n",
       "      <td>Heather Magee</td>\n",
       "      <td>Richard Glover</td>\n",
       "    </tr>\n",
       "  </tbody>\n",
       "</table>\n",
       "<p>5 rows × 31 columns</p>\n",
       "</div>"
      ],
      "text/plain": [
       "   Unnamed: 0                 title    title_type   genre  runtime  \\\n",
       "0           1           Filly Brown  Feature Film   Drama     80.0   \n",
       "1           2              The Dish  Feature Film   Drama    101.0   \n",
       "2           3   Waiting for Guffman  Feature Film  Comedy     84.0   \n",
       "3           4  The Age of Innocence  Feature Film   Drama    139.0   \n",
       "4           5           Malevolence  Feature Film  Horror     90.0   \n",
       "\n",
       "  mpaa_rating                    studio  thtr_rel_year  thtr_rel_month  \\\n",
       "0           R       Indomina Media Inc.           2013               4   \n",
       "1       PG-13     Warner Bros. Pictures           2001               3   \n",
       "2           R    Sony Pictures Classics           1996               8   \n",
       "3          PG         Columbia Pictures           1993              10   \n",
       "4           R  Anchor Bay Entertainment           2004               9   \n",
       "\n",
       "   thtr_rel_day  ...  best_actor_win  best_actress_win  best_dir_win  \\\n",
       "0            19  ...              no                no            no   \n",
       "1            14  ...              no                no            no   \n",
       "2            21  ...              no                no            no   \n",
       "3             1  ...             yes                no           yes   \n",
       "4            10  ...              no                no            no   \n",
       "\n",
       "   top200_box           director             actor1              actor2  \\\n",
       "0          no   Michael D. Olmos     Gina Rodriguez        Jenni Rivera   \n",
       "1          no          Rob Sitch          Sam Neill    Kevin Harrington   \n",
       "2          no  Christopher Guest  Christopher Guest    Catherine O'Hara   \n",
       "3          no    Martin Scorsese   Daniel Day-Lewis   Michelle Pfeiffer   \n",
       "4          no        Stevan Mena      Samantha Dark  R. Brandon Johnson   \n",
       "\n",
       "                 actor3            actor4               actor5  \n",
       "0  Lou Diamond Phillips     Emilio Rivera  Joseph Julian Soria  \n",
       "1     Patrick Warburton          Tom Long       Genevieve Mooy  \n",
       "2          Parker Posey       Eugene Levy          Bob Balaban  \n",
       "3          Winona Ryder  Richard E. Grant         Alec McCowen  \n",
       "4       Brandon Johnson     Heather Magee       Richard Glover  \n",
       "\n",
       "[5 rows x 31 columns]"
      ]
     },
     "execution_count": 122,
     "metadata": {},
     "output_type": "execute_result"
    }
   ],
   "source": [
    "movies.head()"
   ]
  },
  {
   "cell_type": "code",
   "execution_count": 123,
   "id": "61d5eaf8",
   "metadata": {},
   "outputs": [],
   "source": [
    "# Preprocessing\n",
    "movies = movies.iloc[:,1:]"
   ]
  },
  {
   "cell_type": "code",
   "execution_count": 124,
   "id": "0bd4c133",
   "metadata": {},
   "outputs": [
    {
     "name": "stdout",
     "output_type": "stream",
     "text": [
      "<class 'pandas.core.frame.DataFrame'>\n",
      "RangeIndex: 600 entries, 0 to 599\n",
      "Data columns (total 30 columns):\n",
      " #   Column            Non-Null Count  Dtype  \n",
      "---  ------            --------------  -----  \n",
      " 0   title             600 non-null    object \n",
      " 1   title_type        600 non-null    object \n",
      " 2   genre             600 non-null    object \n",
      " 3   runtime           599 non-null    float64\n",
      " 4   mpaa_rating       600 non-null    object \n",
      " 5   studio            595 non-null    object \n",
      " 6   thtr_rel_year     600 non-null    int64  \n",
      " 7   thtr_rel_month    600 non-null    int64  \n",
      " 8   thtr_rel_day      600 non-null    int64  \n",
      " 9   dvd_rel_year      593 non-null    float64\n",
      " 10  dvd_rel_month     593 non-null    float64\n",
      " 11  dvd_rel_day       593 non-null    float64\n",
      " 12  imdb_rating       600 non-null    float64\n",
      " 13  imdb_num_votes    600 non-null    int64  \n",
      " 14  critics_rating    600 non-null    object \n",
      " 15  critics_score     600 non-null    int64  \n",
      " 16  audience_rating   600 non-null    object \n",
      " 17  audience_score    600 non-null    int64  \n",
      " 18  best_pic_nom      600 non-null    object \n",
      " 19  best_pic_win      600 non-null    object \n",
      " 20  best_actor_win    600 non-null    object \n",
      " 21  best_actress_win  600 non-null    object \n",
      " 22  best_dir_win      600 non-null    object \n",
      " 23  top200_box        600 non-null    object \n",
      " 24  director          598 non-null    object \n",
      " 25  actor1            598 non-null    object \n",
      " 26  actor2            593 non-null    object \n",
      " 27  actor3            591 non-null    object \n",
      " 28  actor4            588 non-null    object \n",
      " 29  actor5            586 non-null    object \n",
      "dtypes: float64(5), int64(6), object(19)\n",
      "memory usage: 140.8+ KB\n"
     ]
    }
   ],
   "source": [
    "movies.info()"
   ]
  },
  {
   "cell_type": "code",
   "execution_count": 125,
   "id": "4ff60e9e",
   "metadata": {},
   "outputs": [
    {
     "data": {
      "text/plain": [
       "<matplotlib.collections.PathCollection at 0x29362330730>"
      ]
     },
     "execution_count": 125,
     "metadata": {},
     "output_type": "execute_result"
    },
    {
     "data": {
      "image/png": "[encoded data removed]",
      "text/plain": [
       "<Figure size 432x288 with 1 Axes>"
      ]
     },
     "metadata": {
      "needs_background": "light"
     },
     "output_type": "display_data"
    }
   ],
   "source": [
    "plt.scatter(movies[\"critics_score\"],movies[\"audience_score\"])\n"
   ]
  },
  {
   "cell_type": "code",
   "execution_count": 126,
   "id": "5464fbf7",
   "metadata": {},
   "outputs": [],
   "source": [
    "x = movies.iloc[:,15:16]"
   ]
  },
  {
   "cell_type": "code",
   "execution_count": 127,
   "id": "63fc8979",
   "metadata": {},
   "outputs": [],
   "source": [
    "y = movies.iloc[:,17:18]\n"
   ]
  },
  {
   "cell_type": "code",
   "execution_count": 128,
   "id": "5733e670",
   "metadata": {},
   "outputs": [],
   "source": [
    "from sklearn.model_selection import train_test_split\n",
    "x_train_set , x_test_set , y_train_set , y_test_set = train_test_split(x,y,test_size = 0.1)"
   ]
  },
  {
   "cell_type": "code",
   "execution_count": 129,
   "id": "8379e718",
   "metadata": {},
   "outputs": [
    {
     "data": {
      "text/html": [
       "<style>#sk-container-id-4 {color: black;background-color: white;}#sk-container-id-4 pre{padding: 0;}#sk-container-id-4 div.sk-toggleable {background-color: white;}#sk-container-id-4 label.sk-toggleable__label {cursor: pointer;display: block;width: 100%;margin-bottom: 0;padding: 0.3em;box-sizing: border-box;text-align: center;}#sk-container-id-4 label.sk-toggleable__label-arrow:before {content: \"▸\";float: left;margin-right: 0.25em;color: #696969;}#sk-container-id-4 label.sk-toggleable__label-arrow:hover:before {color: black;}#sk-container-id-4 div.sk-estimator:hover label.sk-toggleable__label-arrow:before {color: black;}#sk-container-id-4 div.sk-toggleable__content {max-height: 0;max-width: 0;overflow: hidden;text-align: left;background-color: #f0f8ff;}#sk-container-id-4 div.sk-toggleable__content pre {margin: 0.2em;color: black;border-radius: 0.25em;background-color: #f0f8ff;}#sk-container-id-4 input.sk-toggleable__control:checked~div.sk-toggleable__content {max-height: 200px;max-width: 100%;overflow: auto;}#sk-container-id-4 input.sk-toggleable__control:checked~label.sk-toggleable__label-arrow:before {content: \"▾\";}#sk-container-id-4 div.sk-estimator input.sk-toggleable__control:checked~label.sk-toggleable__label {background-color: #d4ebff;}#sk-container-id-4 div.sk-label input.sk-toggleable__control:checked~label.sk-toggleable__label {background-color: #d4ebff;}#sk-container-id-4 input.sk-hidden--visually {border: 0;clip: rect(1px 1px 1px 1px);clip: rect(1px, 1px, 1px, 1px);height: 1px;margin: -1px;overflow: hidden;padding: 0;position: absolute;width: 1px;}#sk-container-id-4 div.sk-estimator {font-family: monospace;background-color: #f0f8ff;border: 1px dotted black;border-radius: 0.25em;box-sizing: border-box;margin-bottom: 0.5em;}#sk-container-id-4 div.sk-estimator:hover {background-color: #d4ebff;}#sk-container-id-4 div.sk-parallel-item::after {content: \"\";width: 100%;border-bottom: 1px solid gray;flex-grow: 1;}#sk-container-id-4 div.sk-label:hover label.sk-toggleable__label {background-color: #d4ebff;}#sk-container-id-4 div.sk-serial::before {content: \"\";position: absolute;border-left: 1px solid gray;box-sizing: border-box;top: 0;bottom: 0;left: 50%;z-index: 0;}#sk-container-id-4 div.sk-serial {display: flex;flex-direction: column;align-items: center;background-color: white;padding-right: 0.2em;padding-left: 0.2em;position: relative;}#sk-container-id-4 div.sk-item {position: relative;z-index: 1;}#sk-container-id-4 div.sk-parallel {display: flex;align-items: stretch;justify-content: center;background-color: white;position: relative;}#sk-container-id-4 div.sk-item::before, #sk-container-id-4 div.sk-parallel-item::before {content: \"\";position: absolute;border-left: 1px solid gray;box-sizing: border-box;top: 0;bottom: 0;left: 50%;z-index: -1;}#sk-container-id-4 div.sk-parallel-item {display: flex;flex-direction: column;z-index: 1;position: relative;background-color: white;}#sk-container-id-4 div.sk-parallel-item:first-child::after {align-self: flex-end;width: 50%;}#sk-container-id-4 div.sk-parallel-item:last-child::after {align-self: flex-start;width: 50%;}#sk-container-id-4 div.sk-parallel-item:only-child::after {width: 0;}#sk-container-id-4 div.sk-dashed-wrapped {border: 1px dashed gray;margin: 0 0.4em 0.5em 0.4em;box-sizing: border-box;padding-bottom: 0.4em;background-color: white;}#sk-container-id-4 div.sk-label label {font-family: monospace;font-weight: bold;display: inline-block;line-height: 1.2em;}#sk-container-id-4 div.sk-label-container {text-align: center;}#sk-container-id-4 div.sk-container {/* jupyter's `normalize.less` sets `[hidden] { display: none; }` but bootstrap.min.css set `[hidden] { display: none !important; }` so we also need the `!important` here to be able to override the default hidden behavior on the sphinx rendered scikit-learn.org. See: https://github.com/scikit-learn/scikit-learn/issues/21755 */display: inline-block !important;position: relative;}#sk-container-id-4 div.sk-text-repr-fallback {display: none;}</style><div id=\"sk-container-id-4\" class=\"sk-top-container\"><div class=\"sk-text-repr-fallback\"><pre>LinearRegression()</pre><b>In a Jupyter environment, please rerun this cell to show the HTML representation or trust the notebook. <br />On GitHub, the HTML representation is unable to render, please try loading this page with nbviewer.org.</b></div><div class=\"sk-container\" hidden><div class=\"sk-item\"><div class=\"sk-estimator sk-toggleable\"><input class=\"sk-toggleable__control sk-hidden--visually\" id=\"sk-estimator-id-4\" type=\"checkbox\" checked><label for=\"sk-estimator-id-4\" class=\"sk-toggleable__label sk-toggleable__label-arrow\">LinearRegression</label><div class=\"sk-toggleable__content\"><pre>LinearRegression()</pre></div></div></div></div></div>"
      ],
      "text/plain": [
       "LinearRegression()"
      ]
     },
     "execution_count": 129,
     "metadata": {},
     "output_type": "execute_result"
    }
   ],
   "source": [
    "from sklearn.linear_model import LinearRegression\n",
    "\n",
    "regr = LinearRegression()\n",
    "\n",
    "regr.fit(x_train_set,y_train_set)"
   ]
  },
  {
   "cell_type": "code",
   "execution_count": 130,
   "id": "5ca64000",
   "metadata": {},
   "outputs": [],
   "source": [
    "predict_y = regr.predict(x_test_set)\n"
   ]
  },
  {
   "cell_type": "code",
   "execution_count": 131,
   "id": "f15b8c7b",
   "metadata": {},
   "outputs": [],
   "source": [
    "# Analysis "
   ]
  },
  {
   "cell_type": "code",
   "execution_count": 139,
   "id": "88d57c50",
   "metadata": {},
   "outputs": [
    {
     "data": {
      "text/plain": [
       "array([[0.50905243]])"
      ]
     },
     "execution_count": 139,
     "metadata": {},
     "output_type": "execute_result"
    }
   ],
   "source": [
    "regr.coef_ #weight"
   ]
  },
  {
   "cell_type": "code",
   "execution_count": 140,
   "id": "8005a043",
   "metadata": {},
   "outputs": [
    {
     "data": {
      "text/plain": [
       "array([32.84135383])"
      ]
     },
     "execution_count": 140,
     "metadata": {},
     "output_type": "execute_result"
    }
   ],
   "source": [
    "regr.intercept_ #intercept"
   ]
  },
  {
   "cell_type": "code",
   "execution_count": 133,
   "id": "8cb13ff1",
   "metadata": {},
   "outputs": [],
   "source": [
    "from sklearn.metrics import mean_squared_error, r2_score"
   ]
  },
  {
   "cell_type": "code",
   "execution_count": 134,
   "id": "2ecbdb0f",
   "metadata": {},
   "outputs": [
    {
     "name": "stdout",
     "output_type": "stream",
     "text": [
      "Mean squared error: 222.42\n"
     ]
    }
   ],
   "source": [
    "print(\"Mean squared error: %.2f\" % mean_squared_error(y_test_set, y_pred=predict_y))"
   ]
  },
  {
   "cell_type": "code",
   "execution_count": 135,
   "id": "b74000c2",
   "metadata": {},
   "outputs": [
    {
     "name": "stdout",
     "output_type": "stream",
     "text": [
      "Coefficient of determination: 0.46\n"
     ]
    }
   ],
   "source": [
    "print(\"Coefficient of determination: %.2f\" % r2_score(y_test_set, y_pred=predict_y))"
   ]
  },
  {
   "cell_type": "code",
   "execution_count": 136,
   "id": "51509881",
   "metadata": {},
   "outputs": [],
   "source": [
    "predict_y = predict_y.astype(int)\n",
    "x_test_set = x_test_set.to_numpy()"
   ]
  },
  {
   "cell_type": "code",
   "execution_count": 137,
   "id": "b79f257c",
   "metadata": {},
   "outputs": [
    {
     "data": {
      "text/plain": [
       "[<matplotlib.lines.Line2D at 0x2935c340af0>]"
      ]
     },
     "execution_count": 137,
     "metadata": {},
     "output_type": "execute_result"
    },
    {
     "data": {
      "image/png": "[encoded data removed]",
      "text/plain": [
       "<Figure size 432x288 with 1 Axes>"
      ]
     },
     "metadata": {
      "needs_background": "light"
     },
     "output_type": "display_data"
    }
   ],
   "source": [
    "# plot\n",
    "\n",
    "plt.scatter(x,y)\n",
    "plt.plot(x_test_set,predict_y,color = 'r')"
   ]
  },
  {
   "cell_type": "code",
   "execution_count": null,
   "id": "96d21aa9",
   "metadata": {},
   "outputs": [],
   "source": []
  },
  {
   "cell_type": "code",
   "execution_count": 141,
   "id": "58d3063f",
   "metadata": {},
   "outputs": [],
   "source": [
    "import pickle\n",
    "\n",
    "pickle.dump(regr,open('model2.pkl','wb'))"
   ]
  },
  {
   "cell_type": "code",
   "execution_count": null,
   "id": "74889ee5",
   "metadata": {},
   "outputs": [],
   "source": []
  }
 ],
 "metadata": {
  "kernelspec": {
   "display_name": "Python 3 (ipykernel)",
   "language": "python",
   "name": "python3"
  },
  "language_info": {
   "codemirror_mode": {
    "name": "ipython",
    "version": 3
   },
   "file_extension": ".py",
   "mimetype": "text/x-python",
   "name": "python",
   "nbconvert_exporter": "python",
   "pygments_lexer": "ipython3",
   "version": "3.10.2"
  }
 },
 "nbformat": 4,
 "nbformat_minor": 5
}
