{
 "cells": [
  {
   "cell_type": "code",
   "execution_count": 150,
   "id": "70e0efb3",
   "metadata": {},
   "outputs": [],
   "source": [
    "import pandas as pd\n",
    "import numpy as np"
   ]
  },
  {
   "cell_type": "code",
   "execution_count": 151,
   "id": "79ba7579",
   "metadata": {},
   "outputs": [],
   "source": [
    "df = pd.read_csv(\"USA_cars_datasets.csv\")"
   ]
  },
  {
   "cell_type": "code",
   "execution_count": 152,
   "id": "d09a1ea7",
   "metadata": {},
   "outputs": [
    {
     "name": "stdout",
     "output_type": "stream",
     "text": [
      "<class 'pandas.core.frame.DataFrame'>\n",
      "RangeIndex: 2499 entries, 0 to 2498\n",
      "Data columns (total 13 columns):\n",
      " #   Column        Non-Null Count  Dtype  \n",
      "---  ------        --------------  -----  \n",
      " 0   Unnamed: 0    2499 non-null   int64  \n",
      " 1   price         2499 non-null   int64  \n",
      " 2   brand         2499 non-null   object \n",
      " 3   model         2499 non-null   object \n",
      " 4   year          2499 non-null   int64  \n",
      " 5   title_status  2499 non-null   object \n",
      " 6   mileage       2499 non-null   float64\n",
      " 7   color         2499 non-null   object \n",
      " 8   vin           2499 non-null   object \n",
      " 9   lot           2499 non-null   int64  \n",
      " 10  state         2499 non-null   object \n",
      " 11  country       2499 non-null   object \n",
      " 12  condition     2499 non-null   object \n",
      "dtypes: float64(1), int64(4), object(8)\n",
      "memory usage: 253.9+ KB\n"
     ]
    }
   ],
   "source": [
    "df.info()"
   ]
  },
  {
   "cell_type": "code",
   "execution_count": 153,
   "id": "650879b8",
   "metadata": {},
   "outputs": [
    {
     "data": {
      "text/plain": [
       "(2499, 13)"
      ]
     },
     "execution_count": 153,
     "metadata": {},
     "output_type": "execute_result"
    }
   ],
   "source": [
    "df.shape"
   ]
  },
  {
   "cell_type": "code",
   "execution_count": 154,
   "id": "cb0b5a45",
   "metadata": {},
   "outputs": [],
   "source": [
    "df = df.iloc[:,1:]"
   ]
  },
  {
   "cell_type": "code",
   "execution_count": 155,
   "id": "297a58ca",
   "metadata": {},
   "outputs": [
    {
     "data": {
      "text/html": [
       "<div>\n",
       "<style scoped>\n",
       "    .dataframe tbody tr th:only-of-type {\n",
       "        vertical-align: middle;\n",
       "    }\n",
       "\n",
       "    .dataframe tbody tr th {\n",
       "        vertical-align: top;\n",
       "    }\n",
       "\n",
       "    .dataframe thead th {\n",
       "        text-align: right;\n",
       "    }\n",
       "</style>\n",
       "<table border=\"1\" class=\"dataframe\">\n",
       "  <thead>\n",
       "    <tr style=\"text-align: right;\">\n",
       "      <th></th>\n",
       "      <th>price</th>\n",
       "      <th>brand</th>\n",
       "      <th>model</th>\n",
       "      <th>year</th>\n",
       "      <th>title_status</th>\n",
       "      <th>mileage</th>\n",
       "      <th>color</th>\n",
       "      <th>vin</th>\n",
       "      <th>lot</th>\n",
       "      <th>state</th>\n",
       "      <th>country</th>\n",
       "      <th>condition</th>\n",
       "    </tr>\n",
       "  </thead>\n",
       "  <tbody>\n",
       "    <tr>\n",
       "      <th>0</th>\n",
       "      <td>6300</td>\n",
       "      <td>toyota</td>\n",
       "      <td>cruiser</td>\n",
       "      <td>2008</td>\n",
       "      <td>clean vehicle</td>\n",
       "      <td>274117.0</td>\n",
       "      <td>black</td>\n",
       "      <td>jtezu11f88k007763</td>\n",
       "      <td>159348797</td>\n",
       "      <td>new jersey</td>\n",
       "      <td>usa</td>\n",
       "      <td>10 days left</td>\n",
       "    </tr>\n",
       "    <tr>\n",
       "      <th>1</th>\n",
       "      <td>2899</td>\n",
       "      <td>ford</td>\n",
       "      <td>se</td>\n",
       "      <td>2011</td>\n",
       "      <td>clean vehicle</td>\n",
       "      <td>190552.0</td>\n",
       "      <td>silver</td>\n",
       "      <td>2fmdk3gc4bbb02217</td>\n",
       "      <td>166951262</td>\n",
       "      <td>tennessee</td>\n",
       "      <td>usa</td>\n",
       "      <td>6 days left</td>\n",
       "    </tr>\n",
       "    <tr>\n",
       "      <th>2</th>\n",
       "      <td>5350</td>\n",
       "      <td>dodge</td>\n",
       "      <td>mpv</td>\n",
       "      <td>2018</td>\n",
       "      <td>clean vehicle</td>\n",
       "      <td>39590.0</td>\n",
       "      <td>silver</td>\n",
       "      <td>3c4pdcgg5jt346413</td>\n",
       "      <td>167655728</td>\n",
       "      <td>georgia</td>\n",
       "      <td>usa</td>\n",
       "      <td>2 days left</td>\n",
       "    </tr>\n",
       "    <tr>\n",
       "      <th>3</th>\n",
       "      <td>25000</td>\n",
       "      <td>ford</td>\n",
       "      <td>door</td>\n",
       "      <td>2014</td>\n",
       "      <td>clean vehicle</td>\n",
       "      <td>64146.0</td>\n",
       "      <td>blue</td>\n",
       "      <td>1ftfw1et4efc23745</td>\n",
       "      <td>167753855</td>\n",
       "      <td>virginia</td>\n",
       "      <td>usa</td>\n",
       "      <td>22 hours left</td>\n",
       "    </tr>\n",
       "    <tr>\n",
       "      <th>4</th>\n",
       "      <td>27700</td>\n",
       "      <td>chevrolet</td>\n",
       "      <td>1500</td>\n",
       "      <td>2018</td>\n",
       "      <td>clean vehicle</td>\n",
       "      <td>6654.0</td>\n",
       "      <td>red</td>\n",
       "      <td>3gcpcrec2jg473991</td>\n",
       "      <td>167763266</td>\n",
       "      <td>florida</td>\n",
       "      <td>usa</td>\n",
       "      <td>22 hours left</td>\n",
       "    </tr>\n",
       "  </tbody>\n",
       "</table>\n",
       "</div>"
      ],
      "text/plain": [
       "   price      brand    model  year   title_status   mileage   color  \\\n",
       "0   6300     toyota  cruiser  2008  clean vehicle  274117.0   black   \n",
       "1   2899       ford       se  2011  clean vehicle  190552.0  silver   \n",
       "2   5350      dodge      mpv  2018  clean vehicle   39590.0  silver   \n",
       "3  25000       ford     door  2014  clean vehicle   64146.0    blue   \n",
       "4  27700  chevrolet     1500  2018  clean vehicle    6654.0     red   \n",
       "\n",
       "                   vin        lot       state country      condition  \n",
       "0    jtezu11f88k007763  159348797  new jersey     usa   10 days left  \n",
       "1    2fmdk3gc4bbb02217  166951262   tennessee     usa    6 days left  \n",
       "2    3c4pdcgg5jt346413  167655728     georgia     usa    2 days left  \n",
       "3    1ftfw1et4efc23745  167753855    virginia     usa  22 hours left  \n",
       "4    3gcpcrec2jg473991  167763266     florida     usa  22 hours left  "
      ]
     },
     "execution_count": 155,
     "metadata": {},
     "output_type": "execute_result"
    }
   ],
   "source": [
    "df.head()"
   ]
  },
  {
   "cell_type": "code",
   "execution_count": 156,
   "id": "4f5f6928",
   "metadata": {},
   "outputs": [],
   "source": [
    "import matplotlib.pyplot as plt"
   ]
  },
  {
   "cell_type": "code",
   "execution_count": 157,
   "id": "ea19ba06",
   "metadata": {},
   "outputs": [
    {
     "data": {
      "text/plain": [
       "<matplotlib.collections.PathCollection at 0x23820829570>"
      ]
     },
     "execution_count": 157,
     "metadata": {},
     "output_type": "execute_result"
    },
    {
     "data": {
      "image/png": "[encoded data removed]",
      "text/plain": [
       "<Figure size 432x288 with 1 Axes>"
      ]
     },
     "metadata": {
      "needs_background": "light"
     },
     "output_type": "display_data"
    }
   ],
   "source": [
    "plt.scatter(df['year'],df['price'])"
   ]
  },
  {
   "cell_type": "code",
   "execution_count": null,
   "id": "af561d77",
   "metadata": {},
   "outputs": [],
   "source": []
  },
  {
   "cell_type": "code",
   "execution_count": 158,
   "id": "a885f057",
   "metadata": {},
   "outputs": [],
   "source": [
    "year = df.iloc[:,3:4]"
   ]
  },
  {
   "cell_type": "code",
   "execution_count": 159,
   "id": "c93f944e",
   "metadata": {},
   "outputs": [],
   "source": [
    "price = df.iloc[:,0:1]"
   ]
  },
  {
   "cell_type": "code",
   "execution_count": 160,
   "id": "9825ac4c",
   "metadata": {},
   "outputs": [],
   "source": [
    "from sklearn.model_selection import train_test_split\n",
    "\n",
    "year_train_set ,year_test_set,price_train_set,price_test_set = train_test_split(year,price,test_size=0.1)"
   ]
  },
  {
   "cell_type": "code",
   "execution_count": 161,
   "id": "9bbe3585",
   "metadata": {},
   "outputs": [],
   "source": [
    "# from sklearn.preprocessing import StandardScaler\n",
    "# scaler = StandardScaler()"
   ]
  },
  {
   "cell_type": "code",
   "execution_count": 162,
   "id": "1ecfc41c",
   "metadata": {},
   "outputs": [],
   "source": [
    "# year_train_set = scaler.fit_transform(year_train_set)"
   ]
  },
  {
   "cell_type": "code",
   "execution_count": 163,
   "id": "e2fedae6",
   "metadata": {},
   "outputs": [],
   "source": [
    "# year_test_set = scaler.transform(year_test_set)"
   ]
  },
  {
   "cell_type": "code",
   "execution_count": 164,
   "id": "f4b692e0",
   "metadata": {},
   "outputs": [],
   "source": [
    "# price_train_set = scaler.fit_transform(price_train_set)"
   ]
  },
  {
   "cell_type": "code",
   "execution_count": 165,
   "id": "78966daa",
   "metadata": {},
   "outputs": [],
   "source": [
    "# price_test_set = scaler.transform(price_test_set)"
   ]
  },
  {
   "cell_type": "code",
   "execution_count": 166,
   "id": "eb4415fd",
   "metadata": {},
   "outputs": [],
   "source": [
    "from sklearn.linear_model import LinearRegression"
   ]
  },
  {
   "cell_type": "code",
   "execution_count": 167,
   "id": "bd285134",
   "metadata": {},
   "outputs": [],
   "source": [
    "regr = LinearRegression()"
   ]
  },
  {
   "cell_type": "code",
   "execution_count": 168,
   "id": "208d3757",
   "metadata": {},
   "outputs": [
    {
     "data": {
      "text/html": [
       "<style>#sk-container-id-4 {color: black;background-color: white;}#sk-container-id-4 pre{padding: 0;}#sk-container-id-4 div.sk-toggleable {background-color: white;}#sk-container-id-4 label.sk-toggleable__label {cursor: pointer;display: block;width: 100%;margin-bottom: 0;padding: 0.3em;box-sizing: border-box;text-align: center;}#sk-container-id-4 label.sk-toggleable__label-arrow:before {content: \"▸\";float: left;margin-right: 0.25em;color: #696969;}#sk-container-id-4 label.sk-toggleable__label-arrow:hover:before {color: black;}#sk-container-id-4 div.sk-estimator:hover label.sk-toggleable__label-arrow:before {color: black;}#sk-container-id-4 div.sk-toggleable__content {max-height: 0;max-width: 0;overflow: hidden;text-align: left;background-color: #f0f8ff;}#sk-container-id-4 div.sk-toggleable__content pre {margin: 0.2em;color: black;border-radius: 0.25em;background-color: #f0f8ff;}#sk-container-id-4 input.sk-toggleable__control:checked~div.sk-toggleable__content {max-height: 200px;max-width: 100%;overflow: auto;}#sk-container-id-4 input.sk-toggleable__control:checked~label.sk-toggleable__label-arrow:before {content: \"▾\";}#sk-container-id-4 div.sk-estimator input.sk-toggleable__control:checked~label.sk-toggleable__label {background-color: #d4ebff;}#sk-container-id-4 div.sk-label input.sk-toggleable__control:checked~label.sk-toggleable__label {background-color: #d4ebff;}#sk-container-id-4 input.sk-hidden--visually {border: 0;clip: rect(1px 1px 1px 1px);clip: rect(1px, 1px, 1px, 1px);height: 1px;margin: -1px;overflow: hidden;padding: 0;position: absolute;width: 1px;}#sk-container-id-4 div.sk-estimator {font-family: monospace;background-color: #f0f8ff;border: 1px dotted black;border-radius: 0.25em;box-sizing: border-box;margin-bottom: 0.5em;}#sk-container-id-4 div.sk-estimator:hover {background-color: #d4ebff;}#sk-container-id-4 div.sk-parallel-item::after {content: \"\";width: 100%;border-bottom: 1px solid gray;flex-grow: 1;}#sk-container-id-4 div.sk-label:hover label.sk-toggleable__label {background-color: #d4ebff;}#sk-container-id-4 div.sk-serial::before {content: \"\";position: absolute;border-left: 1px solid gray;box-sizing: border-box;top: 0;bottom: 0;left: 50%;z-index: 0;}#sk-container-id-4 div.sk-serial {display: flex;flex-direction: column;align-items: center;background-color: white;padding-right: 0.2em;padding-left: 0.2em;position: relative;}#sk-container-id-4 div.sk-item {position: relative;z-index: 1;}#sk-container-id-4 div.sk-parallel {display: flex;align-items: stretch;justify-content: center;background-color: white;position: relative;}#sk-container-id-4 div.sk-item::before, #sk-container-id-4 div.sk-parallel-item::before {content: \"\";position: absolute;border-left: 1px solid gray;box-sizing: border-box;top: 0;bottom: 0;left: 50%;z-index: -1;}#sk-container-id-4 div.sk-parallel-item {display: flex;flex-direction: column;z-index: 1;position: relative;background-color: white;}#sk-container-id-4 div.sk-parallel-item:first-child::after {align-self: flex-end;width: 50%;}#sk-container-id-4 div.sk-parallel-item:last-child::after {align-self: flex-start;width: 50%;}#sk-container-id-4 div.sk-parallel-item:only-child::after {width: 0;}#sk-container-id-4 div.sk-dashed-wrapped {border: 1px dashed gray;margin: 0 0.4em 0.5em 0.4em;box-sizing: border-box;padding-bottom: 0.4em;background-color: white;}#sk-container-id-4 div.sk-label label {font-family: monospace;font-weight: bold;display: inline-block;line-height: 1.2em;}#sk-container-id-4 div.sk-label-container {text-align: center;}#sk-container-id-4 div.sk-container {/* jupyter's `normalize.less` sets `[hidden] { display: none; }` but bootstrap.min.css set `[hidden] { display: none !important; }` so we also need the `!important` here to be able to override the default hidden behavior on the sphinx rendered scikit-learn.org. See: https://github.com/scikit-learn/scikit-learn/issues/21755 */display: inline-block !important;position: relative;}#sk-container-id-4 div.sk-text-repr-fallback {display: none;}</style><div id=\"sk-container-id-4\" class=\"sk-top-container\"><div class=\"sk-text-repr-fallback\"><pre>LinearRegression()</pre><b>In a Jupyter environment, please rerun this cell to show the HTML representation or trust the notebook. <br />On GitHub, the HTML representation is unable to render, please try loading this page with nbviewer.org.</b></div><div class=\"sk-container\" hidden><div class=\"sk-item\"><div class=\"sk-estimator sk-toggleable\"><input class=\"sk-toggleable__control sk-hidden--visually\" id=\"sk-estimator-id-4\" type=\"checkbox\" checked><label for=\"sk-estimator-id-4\" class=\"sk-toggleable__label sk-toggleable__label-arrow\">LinearRegression</label><div class=\"sk-toggleable__content\"><pre>LinearRegression()</pre></div></div></div></div></div>"
      ],
      "text/plain": [
       "LinearRegression()"
      ]
     },
     "execution_count": 168,
     "metadata": {},
     "output_type": "execute_result"
    }
   ],
   "source": [
    "regr.fit(year_train_set,price_train_set)"
   ]
  },
  {
   "cell_type": "code",
   "execution_count": 169,
   "id": "4f1d1a1f",
   "metadata": {},
   "outputs": [],
   "source": [
    "price_predict = regr.predict(year_test_set)"
   ]
  },
  {
   "cell_type": "code",
   "execution_count": 170,
   "id": "4c4377ba",
   "metadata": {},
   "outputs": [
    {
     "data": {
      "text/plain": [
       "array([[ 15934],\n",
       "       [ 17566],\n",
       "       [ 14302],\n",
       "       [ 22462],\n",
       "       [ 20830],\n",
       "       [ 20830],\n",
       "       [ 22462],\n",
       "       [ 17566],\n",
       "       [ 22462],\n",
       "       [ 22462],\n",
       "       [ 22462],\n",
       "       [ 22462],\n",
       "       [ 22462],\n",
       "       [ 11038],\n",
       "       [  6142],\n",
       "       [ 20830],\n",
       "       [ 14302],\n",
       "       [ 22462],\n",
       "       [ 22462],\n",
       "       [ 17566],\n",
       "       [ 17566],\n",
       "       [ 22462],\n",
       "       [ 14302],\n",
       "       [ 22462],\n",
       "       [ 19198],\n",
       "       [ 22462],\n",
       "       [ 22462],\n",
       "       [ 22462],\n",
       "       [ 22462],\n",
       "       [ 20830],\n",
       "       [ 19198],\n",
       "       [ 20830],\n",
       "       [ 19198],\n",
       "       [-15073],\n",
       "       [ 22462],\n",
       "       [ 22462],\n",
       "       [ 20830],\n",
       "       [ 17566],\n",
       "       [ 11038],\n",
       "       [ 17566],\n",
       "       [ 15934],\n",
       "       [ 22462],\n",
       "       [ 17566],\n",
       "       [ 19198],\n",
       "       [ 22462],\n",
       "       [ 19198],\n",
       "       [ 19198],\n",
       "       [ 20830],\n",
       "       [ 11038],\n",
       "       [ 22462],\n",
       "       [ 12670],\n",
       "       [ 17566],\n",
       "       [ 20830],\n",
       "       [ 11038],\n",
       "       [ 20830],\n",
       "       [ 22462],\n",
       "       [ 22462],\n",
       "       [ -3649],\n",
       "       [ 22462],\n",
       "       [ 14302],\n",
       "       [ 12670],\n",
       "       [ 12670],\n",
       "       [-11809],\n",
       "       [ 17566],\n",
       "       [ 22462],\n",
       "       [ 20830],\n",
       "       [ 15934],\n",
       "       [ 22462],\n",
       "       [ 19198],\n",
       "       [ 20830],\n",
       "       [ 19198],\n",
       "       [ 17566],\n",
       "       [ 20830],\n",
       "       [ 20830],\n",
       "       [ 15934],\n",
       "       [ 20830],\n",
       "       [ 15934],\n",
       "       [ 22462],\n",
       "       [ 20830],\n",
       "       [ 22462],\n",
       "       [ 22462],\n",
       "       [ 17566],\n",
       "       [ 19198],\n",
       "       [ 24093],\n",
       "       [ 22462],\n",
       "       [ 22462],\n",
       "       [ 17566],\n",
       "       [ 22462],\n",
       "       [ 20830],\n",
       "       [ 19198],\n",
       "       [ 15934],\n",
       "       [ 22462],\n",
       "       [ 15934],\n",
       "       [ 22462],\n",
       "       [ 19198],\n",
       "       [ 19198],\n",
       "       [ 22462],\n",
       "       [ 22462],\n",
       "       [ 19198],\n",
       "       [ 22462],\n",
       "       [ 12670],\n",
       "       [ 20830],\n",
       "       [ 22462],\n",
       "       [  7774],\n",
       "       [ 22462],\n",
       "       [ 22462],\n",
       "       [ 19198],\n",
       "       [ 11038],\n",
       "       [ 19198],\n",
       "       [  6142],\n",
       "       [ 20830],\n",
       "       [-15073],\n",
       "       [ 22462],\n",
       "       [ 17566],\n",
       "       [ 22462],\n",
       "       [ 22462],\n",
       "       [ 17566],\n",
       "       [ 19198],\n",
       "       [ 14302],\n",
       "       [ 22462],\n",
       "       [ 19198],\n",
       "       [ 22462],\n",
       "       [ 22462],\n",
       "       [ 12670],\n",
       "       [ 17566],\n",
       "       [ 17566],\n",
       "       [ 20830],\n",
       "       [ 22462],\n",
       "       [ 11038],\n",
       "       [ 19198],\n",
       "       [ 11038],\n",
       "       [ 22462],\n",
       "       [  4510],\n",
       "       [ 12670],\n",
       "       [  2878],\n",
       "       [ 22462],\n",
       "       [ 12670],\n",
       "       [ 22462],\n",
       "       [ 19198],\n",
       "       [ 22462],\n",
       "       [ 19198],\n",
       "       [ 17566],\n",
       "       [ 22462],\n",
       "       [ 19198],\n",
       "       [ 20830],\n",
       "       [ 11038],\n",
       "       [ 17566],\n",
       "       [ 15934],\n",
       "       [ 22462],\n",
       "       [ 22462],\n",
       "       [ 17566],\n",
       "       [ 22462],\n",
       "       [ 20830],\n",
       "       [ 20830],\n",
       "       [ 20830],\n",
       "       [ 20830],\n",
       "       [ 24093],\n",
       "       [ 20830],\n",
       "       [ 15934],\n",
       "       [ 22462],\n",
       "       [ 19198],\n",
       "       [ 19198],\n",
       "       [ 22462],\n",
       "       [ 12670],\n",
       "       [ 20830],\n",
       "       [ 15934],\n",
       "       [ 20830],\n",
       "       [ 22462],\n",
       "       [ 22462],\n",
       "       [ 24093],\n",
       "       [ 22462],\n",
       "       [ 22462],\n",
       "       [ 11038],\n",
       "       [ 22462],\n",
       "       [ 22462],\n",
       "       [ 22462],\n",
       "       [ 12670],\n",
       "       [ -8545],\n",
       "       [ 22462],\n",
       "       [ 20830],\n",
       "       [-18337],\n",
       "       [ 22462],\n",
       "       [ 15934],\n",
       "       [ 15934],\n",
       "       [ 19198],\n",
       "       [ 20830],\n",
       "       [ 19198],\n",
       "       [ 22462],\n",
       "       [ 22462],\n",
       "       [ 19198],\n",
       "       [ 22462],\n",
       "       [ -2017],\n",
       "       [ 19198],\n",
       "       [ 22462],\n",
       "       [ 15934],\n",
       "       [ 20830],\n",
       "       [ 22462],\n",
       "       [ 19198],\n",
       "       [ 22462],\n",
       "       [ 22462],\n",
       "       [ 22462],\n",
       "       [ 22462],\n",
       "       [ 15934],\n",
       "       [ 22462],\n",
       "       [ 17566],\n",
       "       [ 19198],\n",
       "       [ 22462],\n",
       "       [ 20830],\n",
       "       [ 22462],\n",
       "       [ 22462],\n",
       "       [ 22462],\n",
       "       [ 22462],\n",
       "       [-52608],\n",
       "       [ 12670],\n",
       "       [ 22462],\n",
       "       [ 19198],\n",
       "       [ 19198],\n",
       "       [ 22462],\n",
       "       [  7774],\n",
       "       [ 22462],\n",
       "       [ 19198],\n",
       "       [ 19198],\n",
       "       [ 22462],\n",
       "       [ 22462],\n",
       "       [ 11038],\n",
       "       [ 20830],\n",
       "       [ 22462],\n",
       "       [ 22462],\n",
       "       [ 22462],\n",
       "       [ 19198],\n",
       "       [ 19198],\n",
       "       [ 14302],\n",
       "       [ 22462],\n",
       "       [ 20830],\n",
       "       [ 22462],\n",
       "       [ 15934],\n",
       "       [ 20830],\n",
       "       [ 22462],\n",
       "       [ 17566],\n",
       "       [ 22462],\n",
       "       [  4510],\n",
       "       [ 19198],\n",
       "       [ 17566],\n",
       "       [ 19198],\n",
       "       [ 22462],\n",
       "       [ 22462],\n",
       "       [-11809],\n",
       "       [ 14302],\n",
       "       [ 24093],\n",
       "       [ 22462]])"
      ]
     },
     "execution_count": 170,
     "metadata": {},
     "output_type": "execute_result"
    }
   ],
   "source": [
    "price_predict.astype(int)"
   ]
  },
  {
   "cell_type": "code",
   "execution_count": 171,
   "id": "85754910",
   "metadata": {},
   "outputs": [],
   "source": [
    "price_test_set = price_test_set.to_numpy()\n"
   ]
  },
  {
   "cell_type": "code",
   "execution_count": 172,
   "id": "8b8963b0",
   "metadata": {},
   "outputs": [
    {
     "data": {
      "text/plain": [
       "array([[16593],\n",
       "       [22400],\n",
       "       [ 6700],\n",
       "       [24300],\n",
       "       [32500],\n",
       "       [17000],\n",
       "       [14810],\n",
       "       [ 6200],\n",
       "       [10910],\n",
       "       [28300],\n",
       "       [22700],\n",
       "       [ 4000],\n",
       "       [21900],\n",
       "       [ 4100],\n",
       "       [    0],\n",
       "       [15200],\n",
       "       [ 7500],\n",
       "       [46800],\n",
       "       [24000],\n",
       "       [36000],\n",
       "       [26500],\n",
       "       [17100],\n",
       "       [ 3000],\n",
       "       [ 7300],\n",
       "       [ 5250],\n",
       "       [21800],\n",
       "       [34000],\n",
       "       [15600],\n",
       "       [29000],\n",
       "       [26550],\n",
       "       [31800],\n",
       "       [22800],\n",
       "       [20500],\n",
       "       [    0],\n",
       "       [25900],\n",
       "       [28500],\n",
       "       [14400],\n",
       "       [ 7300],\n",
       "       [ 6700],\n",
       "       [10700],\n",
       "       [ 7500],\n",
       "       [41200],\n",
       "       [11000],\n",
       "       [12700],\n",
       "       [24000],\n",
       "       [12520],\n",
       "       [13200],\n",
       "       [28999],\n",
       "       [ 2000],\n",
       "       [18500],\n",
       "       [23500],\n",
       "       [24000],\n",
       "       [15000],\n",
       "       [  100],\n",
       "       [15700],\n",
       "       [23400],\n",
       "       [17000],\n",
       "       [ 2000],\n",
       "       [23400],\n",
       "       [20500],\n",
       "       [ 2800],\n",
       "       [ 1500],\n",
       "       [    0],\n",
       "       [ 7560],\n",
       "       [50000],\n",
       "       [16500],\n",
       "       [17589],\n",
       "       [24500],\n",
       "       [17700],\n",
       "       [25500],\n",
       "       [12800],\n",
       "       [19000],\n",
       "       [29988],\n",
       "       [12800],\n",
       "       [ 5500],\n",
       "       [14500],\n",
       "       [15000],\n",
       "       [15700],\n",
       "       [28000],\n",
       "       [25511],\n",
       "       [22500],\n",
       "       [63200],\n",
       "       [18300],\n",
       "       [14700],\n",
       "       [17000],\n",
       "       [ 7400],\n",
       "       [10000],\n",
       "       [15200],\n",
       "       [ 6760],\n",
       "       [25000],\n",
       "       [16190],\n",
       "       [46000],\n",
       "       [ 8000],\n",
       "       [23000],\n",
       "       [ 7200],\n",
       "       [ 3210],\n",
       "       [31500],\n",
       "       [27705],\n",
       "       [35500],\n",
       "       [23500],\n",
       "       [14200],\n",
       "       [16500],\n",
       "       [14100],\n",
       "       [ 6470],\n",
       "       [ 9900],\n",
       "       [15900],\n",
       "       [17200],\n",
       "       [ 2700],\n",
       "       [10000],\n",
       "       [ 3900],\n",
       "       [13900],\n",
       "       [    0],\n",
       "       [16800],\n",
       "       [22500],\n",
       "       [29900],\n",
       "       [16500],\n",
       "       [ 4610],\n",
       "       [20000],\n",
       "       [ 8900],\n",
       "       [20900],\n",
       "       [23000],\n",
       "       [52000],\n",
       "       [19800],\n",
       "       [54000],\n",
       "       [35200],\n",
       "       [32001],\n",
       "       [30000],\n",
       "       [10900],\n",
       "       [ 3000],\n",
       "       [12710],\n",
       "       [25200],\n",
       "       [27300],\n",
       "       [ 6300],\n",
       "       [ 5200],\n",
       "       [   25],\n",
       "       [22700],\n",
       "       [ 3000],\n",
       "       [74000],\n",
       "       [10840],\n",
       "       [ 6930],\n",
       "       [12300],\n",
       "       [22700],\n",
       "       [49000],\n",
       "       [ 6300],\n",
       "       [13900],\n",
       "       [24000],\n",
       "       [13000],\n",
       "       [16080],\n",
       "       [22700],\n",
       "       [46700],\n",
       "       [24503],\n",
       "       [20700],\n",
       "       [14400],\n",
       "       [36000],\n",
       "       [ 5475],\n",
       "       [11200],\n",
       "       [23400],\n",
       "       [14100],\n",
       "       [10950],\n",
       "       [20300],\n",
       "       [45500],\n",
       "       [10500],\n",
       "       [34000],\n",
       "       [ 2000],\n",
       "       [19100],\n",
       "       [ 8900],\n",
       "       [11400],\n",
       "       [ 4750],\n",
       "       [30000],\n",
       "       [45500],\n",
       "       [28600],\n",
       "       [14400],\n",
       "       [ 8300],\n",
       "       [16500],\n",
       "       [ 6400],\n",
       "       [23000],\n",
       "       [ 1500],\n",
       "       [    0],\n",
       "       [16500],\n",
       "       [21400],\n",
       "       [    0],\n",
       "       [23500],\n",
       "       [26200],\n",
       "       [23400],\n",
       "       [24900],\n",
       "       [25500],\n",
       "       [18400],\n",
       "       [14000],\n",
       "       [21000],\n",
       "       [13200],\n",
       "       [22600],\n",
       "       [ 5100],\n",
       "       [21500],\n",
       "       [12700],\n",
       "       [ 5000],\n",
       "       [32000],\n",
       "       [11200],\n",
       "       [26400],\n",
       "       [29900],\n",
       "       [12200],\n",
       "       [16300],\n",
       "       [15400],\n",
       "       [ 4000],\n",
       "       [19300],\n",
       "       [19990],\n",
       "       [11600],\n",
       "       [26000],\n",
       "       [18600],\n",
       "       [28500],\n",
       "       [30000],\n",
       "       [29100],\n",
       "       [18200],\n",
       "       [29800],\n",
       "       [ 3600],\n",
       "       [47000],\n",
       "       [16500],\n",
       "       [12800],\n",
       "       [11380],\n",
       "       [    0],\n",
       "       [15050],\n",
       "       [ 3140],\n",
       "       [28402],\n",
       "       [28500],\n",
       "       [34800],\n",
       "       [ 5000],\n",
       "       [10500],\n",
       "       [10500],\n",
       "       [22700],\n",
       "       [36200],\n",
       "       [13000],\n",
       "       [ 9000],\n",
       "       [10200],\n",
       "       [15600],\n",
       "       [63000],\n",
       "       [12800],\n",
       "       [12995],\n",
       "       [10300],\n",
       "       [29500],\n",
       "       [15200],\n",
       "       [35000],\n",
       "       [    0],\n",
       "       [38000],\n",
       "       [ 8400],\n",
       "       [29000],\n",
       "       [15000],\n",
       "       [25800],\n",
       "       [    0],\n",
       "       [ 8900],\n",
       "       [19400],\n",
       "       [17200]], dtype=int64)"
      ]
     },
     "execution_count": 172,
     "metadata": {},
     "output_type": "execute_result"
    }
   ],
   "source": [
    "price_test_set"
   ]
  },
  {
   "cell_type": "code",
   "execution_count": 173,
   "id": "d7a7eed8",
   "metadata": {},
   "outputs": [
    {
     "data": {
      "text/plain": [
       "array([[1631.96496188]])"
      ]
     },
     "execution_count": 173,
     "metadata": {},
     "output_type": "execute_result"
    }
   ],
   "source": [
    "regr.coef_"
   ]
  },
  {
   "cell_type": "code",
   "execution_count": 174,
   "id": "963abfce",
   "metadata": {},
   "outputs": [],
   "source": [
    "from sklearn.metrics import mean_squared_error, r2_score"
   ]
  },
  {
   "cell_type": "code",
   "execution_count": 175,
   "id": "286fb6bb",
   "metadata": {},
   "outputs": [
    {
     "name": "stdout",
     "output_type": "stream",
     "text": [
      "Mean squared error: 150250354.90\n"
     ]
    }
   ],
   "source": [
    "print(\"Mean squared error: %.2f\" % mean_squared_error(price_test_set, price_predict))"
   ]
  },
  {
   "cell_type": "code",
   "execution_count": 176,
   "id": "1a686dab",
   "metadata": {},
   "outputs": [
    {
     "name": "stdout",
     "output_type": "stream",
     "text": [
      "Coefficient of determination: 0.02\n"
     ]
    }
   ],
   "source": [
    "print(\"Coefficient of determination: %.2f\" % r2_score(price_test_set, price_predict))"
   ]
  },
  {
   "cell_type": "code",
   "execution_count": null,
   "id": "8d6f670b",
   "metadata": {},
   "outputs": [],
   "source": [
    "# /Poor model\n"
   ]
  },
  {
   "cell_type": "code",
   "execution_count": 195,
   "id": "2ed92757",
   "metadata": {},
   "outputs": [],
   "source": [
    "import pickle\n",
    "\n",
    "pickle.dump(regr,open('model.pkl','wb'))"
   ]
  }
 ],
 "metadata": {
  "kernelspec": {
   "display_name": "Python 3 (ipykernel)",
   "language": "python",
   "name": "python3"
  },
  "language_info": {
   "codemirror_mode": {
    "name": "ipython",
    "version": 3
   },
   "file_extension": ".py",
   "mimetype": "text/x-python",
   "name": "python",
   "nbconvert_exporter": "python",
   "pygments_lexer": "ipython3",
   "version": "3.10.2"
  }
 },
 "nbformat": 4,
 "nbformat_minor": 5
}
